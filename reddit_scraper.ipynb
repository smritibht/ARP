{
 "cells": [
  {
   "cell_type": "code",
   "execution_count": 33,
   "metadata": {},
   "outputs": [],
   "source": [
    "import praw\n",
    "import pandas as pd\n",
    "import datetime"
   ]
  },
  {
   "cell_type": "code",
   "execution_count": 34,
   "metadata": {},
   "outputs": [],
   "source": [
    "# define the user agent\n",
    "user_agent = \"reddit_scraper\"\n",
    "\n",
    "# create an instance of the reddit class\n",
    "reddit = praw.Reddit(client_id=\"BehfQPf4sMTsuen6hQ5UHA\",\n",
    "                     client_secret=\"Z_O3d9y0CdicaDJxe1DTQSEC9_2BAw\",\n",
    "                     user_agent=user_agent\n",
    ")\n"
   ]
  },
  {
   "cell_type": "code",
   "execution_count": 35,
   "metadata": {},
   "outputs": [
    {
     "name": "stdout",
     "output_type": "stream",
     "text": [
      "electricvehicles\n"
     ]
    }
   ],
   "source": [
    "# define the subreddit\n",
    "subreddit = reddit.subreddit(\"electricvehicles\")\n",
    "\n",
    "# confirm the subreddit\n",
    "print(subreddit.display_name)  # Output: redditdev"
   ]
  },
  {
   "cell_type": "code",
   "execution_count": 36,
   "metadata": {},
   "outputs": [],
   "source": [
    "#create list of all keywords to search\n",
    "keywords = [\"UK\", \"United Kingdom\", \"British\", \"England\", \"Scotland\", \"Wales\", \"Northern Ireland\"]"
   ]
  },
  {
   "cell_type": "code",
   "execution_count": 37,
   "metadata": {},
   "outputs": [],
   "source": [
    "uk_subreddit_dict = []\n",
    "# run for loop to search for each keyword\n",
    "for keyword in keywords:\n",
    "    uk_subreddit = subreddit.search(keyword, limit=None)\n",
    "    for submission in uk_subreddit:\n",
    "        uk_subreddit_dict.append({\n",
    "            \"title\": submission.title,\n",
    "            \"score\": submission.score,\n",
    "            \"id\": submission.id,\n",
    "            \"url\": submission.url,\n",
    "            \"comms_num\": submission.num_comments,\n",
    "            \"created\": submission.created,\n",
    "            \"body\": submission.selftext\n",
    "        })"
   ]
  },
  {
   "cell_type": "code",
   "execution_count": 38,
   "metadata": {},
   "outputs": [
    {
     "name": "stdout",
     "output_type": "stream",
     "text": [
      "                                                 title  score       id  \\\n",
      "0    Nissan Confirms Leaf Successor Will Be Made In...    113  13luw4w   \n",
      "1    Owning an EV in the UK is too expensive if you...    206  12lsnde   \n",
      "2    150 Double-Decker Electric Buses From Volvo He...     77  145vgh7   \n",
      "3    Dismal state of EV's and infrastructure in the UK      7  13xgpt5   \n",
      "4    Tesla announces scrappage scheme bonus in the ...      8  144q953   \n",
      "..                                                 ...    ...      ...   \n",
      "550  Why Northern Ireland is Mess Over E-Bike Regul...      9   6uf36o   \n",
      "551  Northern Ireland: Wrightbus debuts world’s fir...      6   9t2qel   \n",
      "552  China’s BYD blames Brexit as it rules out UK f...    361  11plpmc   \n",
      "553  BEV market share in Northern Europe vs. Southe...      7   ywqobd   \n",
      "554  Britain to ban all new diesel and petrol heavy...    102   ok1ej7   \n",
      "\n",
      "                                                   url  comms_num  \\\n",
      "0    https://insideevs.com/news/668121/nissan-confi...         38   \n",
      "1    https://www.reddit.com/r/electricvehicles/comm...        207   \n",
      "2    https://cleantechnica.com/2023/06/07/150-doubl...          8   \n",
      "3    https://www.reddit.com/r/electricvehicles/comm...         36   \n",
      "4    https://www.electrive.com/2023/06/06/tesla-ann...         19   \n",
      "..                                                 ...        ...   \n",
      "550  http://www.bike-eu.com/laws-regulations/nieuws...          3   \n",
      "551  https://www.electrichybridvehicletechnology.co...          0   \n",
      "552  https://www.theguardian.com/business/2023/mar/...         87   \n",
      "553  https://ecomento.de/wp-content/uploads/2022/11...         40   \n",
      "554  https://www.reuters.com/business/aerospace-def...         10   \n",
      "\n",
      "          created                                               body  \n",
      "0    1.684501e+09                                                     \n",
      "1    1.681468e+09  Just received a notification from Geniepoint t...  \n",
      "2    1.686389e+09                                                     \n",
      "3    1.685624e+09  Being a dual car family, I have an EV and an I...  \n",
      "4    1.686271e+09                                                     \n",
      "..            ...                                                ...  \n",
      "550  1.503025e+09                                                     \n",
      "551  1.541019e+09                                                     \n",
      "552  1.678646e+09                                                     \n",
      "553  1.668597e+09                                                     \n",
      "554  1.626258e+09                                                     \n",
      "\n",
      "[555 rows x 7 columns]\n"
     ]
    }
   ],
   "source": [
    "\n",
    "\n",
    "# convert list to dataframe\n",
    "uk_subreddit_thread_df = pd.DataFrame(uk_subreddit_dict)\n",
    "\n",
    "# print dataframe\n",
    "print(uk_subreddit_thread_df)\n",
    "\n"
   ]
  },
  {
   "cell_type": "code",
   "execution_count": 44,
   "metadata": {},
   "outputs": [],
   "source": [
    "# get all id's from dataframe uk_subreddit_threads_df and save to a list\n",
    "submission_ids = uk_subreddit_thread_df[\"id\"].tolist()\n",
    "# create empty list to store comments\n",
    "uk_subreddit_comments_dict = []\n"
   ]
  },
  {
   "cell_type": "code",
   "execution_count": 45,
   "metadata": {},
   "outputs": [
    {
     "name": "stdout",
     "output_type": "stream",
     "text": [
      "                                                    body  score       created  \\\n",
      "0                                              [deleted]    140  1.684502e+09   \n",
      "1      Exciting stuff and good for Sunderland, but it...     40  1.684502e+09   \n",
      "2      The Leaf is a great car but goddamn does it ha...     11  1.684508e+09   \n",
      "3      I didn't think any company was dumb enough to ...     19  1.684506e+09   \n",
      "4      I'd love to see how that concept car would loo...      0  1.684505e+09   \n",
      "...                                                  ...    ...           ...   \n",
      "19723  Might be banning domestic flights like France,...      1  1.626455e+09   \n",
      "19724  Even worse is that they are building a new non...      1  1.626455e+09   \n",
      "19725                                                Yes      1  1.626334e+09   \n",
      "19726  Agreed. Full hydrogen is (today, and especiall...      3  1.626271e+09   \n",
      "19727  I hadn't heard if that, but that's dumb as shi...      1  1.626457e+09   \n",
      "\n",
      "            id submission_id  \n",
      "0      jkrnkb7       13luw4w  \n",
      "1      jkrnwjj       13luw4w  \n",
      "2      jks0vgj       13luw4w  \n",
      "3      jkrwwa6       13luw4w  \n",
      "4      jkru3rg       13luw4w  \n",
      "...        ...           ...  \n",
      "19723  h5f1rhk        ok1ej7  \n",
      "19724  h5f222f        ok1ej7  \n",
      "19725  h590y4x        ok1ej7  \n",
      "19726  h55l5dn        ok1ej7  \n",
      "19727  h5f55o3        ok1ej7  \n",
      "\n",
      "[19728 rows x 5 columns]\n"
     ]
    }
   ],
   "source": [
    "# create a for loop to get all comments from all threads\n",
    "for submission_id in submission_ids:\n",
    "    submission = reddit.submission(id=submission_id)\n",
    "    submission.comments.replace_more(limit=None)\n",
    "    for comment in submission.comments.list():\n",
    "        # save the comment data to a dictionary\n",
    "        uk_subreddit_comments_dict.append({\n",
    "            \"body\": comment.body,\n",
    "            \"score\": comment.score,\n",
    "            \"created\": comment.created,\n",
    "            \"id\": comment.id,\n",
    "            \"submission_id\": comment.submission.id,\n",
    "        })\n",
    "        \n",
    "# convert dictionary to dataframe\n",
    "uk_subreddit_comments_df = pd.DataFrame(uk_subreddit_comments_dict)\n",
    "\n",
    "# print dataframe\n",
    "print(uk_subreddit_comments_df)"
   ]
  },
  {
   "cell_type": "code",
   "execution_count": 46,
   "metadata": {},
   "outputs": [
    {
     "name": "stdout",
     "output_type": "stream",
     "text": [
      "                                                    body  score  \\\n",
      "0                                              [deleted]    140   \n",
      "1      Exciting stuff and good for Sunderland, but it...     40   \n",
      "2      The Leaf is a great car but goddamn does it ha...     11   \n",
      "3      I didn't think any company was dumb enough to ...     19   \n",
      "4      I'd love to see how that concept car would loo...      0   \n",
      "...                                                  ...    ...   \n",
      "19723  Might be banning domestic flights like France,...      1   \n",
      "19724  Even worse is that they are building a new non...      1   \n",
      "19725                                                Yes      1   \n",
      "19726  Agreed. Full hydrogen is (today, and especiall...      3   \n",
      "19727  I hadn't heard if that, but that's dumb as shi...      1   \n",
      "\n",
      "                  created       id submission_id  \n",
      "0     2023-05-19 14:13:07  jkrnkb7       13luw4w  \n",
      "1     2023-05-19 14:15:40  jkrnwjj       13luw4w  \n",
      "2     2023-05-19 15:45:04  jks0vgj       13luw4w  \n",
      "3     2023-05-19 15:19:00  jkrwwa6       13luw4w  \n",
      "4     2023-05-19 15:00:04  jkru3rg       13luw4w  \n",
      "...                   ...      ...           ...  \n",
      "19723 2021-07-16 18:06:14  h5f1rhk        ok1ej7  \n",
      "19724 2021-07-16 18:08:21  h5f222f        ok1ej7  \n",
      "19725 2021-07-15 08:29:46  h590y4x        ok1ej7  \n",
      "19726 2021-07-14 15:00:45  h55l5dn        ok1ej7  \n",
      "19727 2021-07-16 18:30:03  h5f55o3        ok1ej7  \n",
      "\n",
      "[19728 rows x 5 columns]\n"
     ]
    }
   ],
   "source": [
    "\n",
    "\n",
    "# convert utc timestamp to datetime\n",
    "uk_subreddit_comments_df[\"created\"] = uk_subreddit_comments_df[\"created\"].apply(\n",
    "    lambda x: datetime.datetime.fromtimestamp(x)\n",
    ")\n",
    "\n",
    "# print dataframe\n",
    "print(uk_subreddit_comments_df)"
   ]
  },
  {
   "cell_type": "code",
   "execution_count": 47,
   "metadata": {},
   "outputs": [],
   "source": [
    "# save dataframe to csv\n",
    "uk_subreddit_comments_df.to_csv(\"data/uk_subreddit_comments.csv\", index=False)\n",
    "\n",
    "# save dataframe to csv\n",
    "uk_subreddit_thread_df.to_csv(\"data/uk_subreddit_threads.csv\", index=False)"
   ]
  }
 ],
 "metadata": {
  "kernelspec": {
   "display_name": "Python 3",
   "language": "python",
   "name": "python3"
  },
  "language_info": {
   "codemirror_mode": {
    "name": "ipython",
    "version": 3
   },
   "file_extension": ".py",
   "mimetype": "text/x-python",
   "name": "python",
   "nbconvert_exporter": "python",
   "pygments_lexer": "ipython3",
   "version": "3.9.16"
  },
  "orig_nbformat": 4
 },
 "nbformat": 4,
 "nbformat_minor": 2
}
