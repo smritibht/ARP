{
 "cells": [
  {
   "cell_type": "code",
   "execution_count": 1,
   "metadata": {},
   "outputs": [],
   "source": [
    "import praw\n",
    "import pandas as pd\n",
    "import datetime\n",
    "import PyPDF2"
   ]
  },
  {
   "cell_type": "code",
   "execution_count": 2,
   "metadata": {},
   "outputs": [
    {
     "name": "stderr",
     "output_type": "stream",
     "text": [
      "Version 7.7.0 of praw is outdated. Version 7.7.1 was released Tuesday July 11, 2023.\n"
     ]
    }
   ],
   "source": [
    "# define the user agent\n",
    "user_agent = \"reddit_scraper\"\n",
    "\n",
    "# create an instance of the reddit class\n",
    "reddit = praw.Reddit(client_id=\"BehfQPf4sMTsuen6hQ5UHA\",\n",
    "                     client_secret=\"Z_O3d9y0CdicaDJxe1DTQSEC9_2BAw\",\n",
    "                     user_agent=user_agent\n",
    ")\n"
   ]
  },
  {
   "cell_type": "code",
   "execution_count": 3,
   "metadata": {},
   "outputs": [
    {
     "name": "stdout",
     "output_type": "stream",
     "text": [
      "electricvehicles\n"
     ]
    }
   ],
   "source": [
    "# define the subreddit\n",
    "subreddit = reddit.subreddit(\"electricvehicles\")\n",
    "\n",
    "# confirm the subreddit\n",
    "print(subreddit.display_name)  # Output: redditdev"
   ]
  },
  {
   "cell_type": "code",
   "execution_count": 4,
   "metadata": {},
   "outputs": [],
   "source": [
    "#create list of all keywords to search\n",
    "keywords = [\"UK\", \"United Kingdom\", \"British\", \"England\", \"Scotland\", \"Wales\", \"Northern Ireland\"]"
   ]
  },
  {
   "cell_type": "code",
   "execution_count": 5,
   "metadata": {},
   "outputs": [],
   "source": [
    "uk_subreddit_dict = []\n",
    "# run for loop to search for each keyword\n",
    "for keyword in keywords:\n",
    "    uk_subreddit = subreddit.search(keyword, limit=None)\n",
    "    for submission in uk_subreddit:\n",
    "        uk_subreddit_dict.append({\n",
    "            \"title\": submission.title,\n",
    "            \"score\": submission.score,\n",
    "            \"id\": submission.id,\n",
    "            \"url\": submission.url,\n",
    "            \"comms_num\": submission.num_comments,\n",
    "            \"created\": submission.created,\n",
    "            \"body\": submission.selftext\n",
    "        })"
   ]
  },
  {
   "cell_type": "code",
   "execution_count": 6,
   "metadata": {},
   "outputs": [
    {
     "name": "stdout",
     "output_type": "stream",
     "text": [
      "                                                 title  score       id  \\\n",
      "0    In the middle of a desert, almost 100 miles fr...    793  150lepk   \n",
      "1    Tesla gives new owners in the UK a grabbing st...    353  14n2lrr   \n",
      "2    New Volvo EX30 Cross Country will be coming to...     35  14ygkih   \n",
      "3    New 2023 Kia EV9 priced from £64,995 in the UK...     10  14r9oft   \n",
      "4                    Polestar 2 Hertz Rental UK review     15  14m9x2u   \n",
      "..                                                 ...    ...      ...   \n",
      "556  Why Northern Ireland is Mess Over E-Bike Regul...     11   6uf36o   \n",
      "557  Northern Ireland: Wrightbus debuts world’s fir...      6   9t2qel   \n",
      "558  China’s BYD blames Brexit as it rules out UK f...    368  11plpmc   \n",
      "559  BEV market share in Northern Europe vs. Southe...      5   ywqobd   \n",
      "560  Britain to ban all new diesel and petrol heavy...    103   ok1ej7   \n",
      "\n",
      "                                                   url  comms_num  \\\n",
      "0    https://www.reddit.com/r/electricvehicles/comm...        310   \n",
      "1    https://electrek.co/2023/06/30/tesla-gives-new...        288   \n",
      "2    https://www.autocar.co.uk/car-news/new-cars/ne...         11   \n",
      "3    https://www.autocar.co.uk/car-news/new-cars/ne...         27   \n",
      "4    https://www.reddit.com/r/electricvehicles/comm...         24   \n",
      "..                                                 ...        ...   \n",
      "556  http://www.bike-eu.com/laws-regulations/nieuws...          3   \n",
      "557  https://www.electrichybridvehicletechnology.co...          0   \n",
      "558  https://www.theguardian.com/business/2023/mar/...         83   \n",
      "559  https://ecomento.de/wp-content/uploads/2022/11...         40   \n",
      "560  https://www.reuters.com/business/aerospace-def...         10   \n",
      "\n",
      "          created                                               body  \n",
      "0    1.689451e+09   So I was driving across the desert of souther...  \n",
      "1    1.688137e+09                                                     \n",
      "2    1.689242e+09                                                     \n",
      "3    1.688561e+09                                                     \n",
      "4    1.688057e+09  I spent a week in the UK with a Polestar 2 tha...  \n",
      "..            ...                                                ...  \n",
      "556  1.503025e+09                                                     \n",
      "557  1.541019e+09                                                     \n",
      "558  1.678646e+09                                                     \n",
      "559  1.668597e+09                                                     \n",
      "560  1.626258e+09                                                     \n",
      "\n",
      "[561 rows x 7 columns]\n"
     ]
    }
   ],
   "source": [
    "\n",
    "\n",
    "# convert list to dataframe\n",
    "uk_subreddit_thread_df = pd.DataFrame(uk_subreddit_dict)\n",
    "\n",
    "# print dataframe\n",
    "print(uk_subreddit_thread_df)\n",
    "\n"
   ]
  },
  {
   "cell_type": "code",
   "execution_count": 7,
   "metadata": {},
   "outputs": [],
   "source": [
    "# get all id's from dataframe uk_subreddit_threads_df and save to a list\n",
    "thread_ids = uk_subreddit_thread_df[\"id\"].tolist()\n",
    "# create empty list to store comments\n",
    "uk_subreddit_comments_dict = []\n"
   ]
  },
  {
   "cell_type": "code",
   "execution_count": 8,
   "metadata": {},
   "outputs": [
    {
     "name": "stdout",
     "output_type": "stream",
     "text": [
      "                                                    body  score       created  \\\n",
      "0      Checked supercharge.info\\n\\nUnited Kingdom 118...    703  1.689452e+09   \n",
      "1      I’m in England. I have an EV. \\n\\nToday and to...    112  1.689455e+09   \n",
      "2      Lol.\\n\\nThere's definitely a lot of people ove...    106  1.689452e+09   \n",
      "3       ...must have been a Brexiteer. How's that going?    166  1.689452e+09   \n",
      "4      A guy stopped me outside the store in Connecti...     25  1.689459e+09   \n",
      "...                                                  ...    ...           ...   \n",
      "21164  Might be banning domestic flights like France,...      1  1.626455e+09   \n",
      "21165  Even worse is that they are building a new non...      1  1.626455e+09   \n",
      "21166                                                Yes      1  1.626334e+09   \n",
      "21167  Agreed. Full hydrogen is (today, and especiall...      5  1.626271e+09   \n",
      "21168  I hadn't heard if that, but that's dumb as shi...      1  1.626457e+09   \n",
      "\n",
      "            id submission_id location  \n",
      "0      js3upk8       150lepk  js3upk8  \n",
      "1      js40lpa       150lepk  js40lpa  \n",
      "2      js3ttv8       150lepk  js3ttv8  \n",
      "3      js3tyf4       150lepk  js3tyf4  \n",
      "4      js48xjo       150lepk  js48xjo  \n",
      "...        ...           ...      ...  \n",
      "21164  h5f1rhk        ok1ej7  h5f1rhk  \n",
      "21165  h5f222f        ok1ej7  h5f222f  \n",
      "21166  h590y4x        ok1ej7  h590y4x  \n",
      "21167  h55l5dn        ok1ej7  h55l5dn  \n",
      "21168  h5f55o3        ok1ej7  h5f55o3  \n",
      "\n",
      "[21169 rows x 6 columns]\n"
     ]
    }
   ],
   "source": [
    "# create a for loop to get all comments from all threads\n",
    "for thread_ids in thread_ids:\n",
    "    submission = reddit.submission(id=thread_ids)\n",
    "    submission.comments.replace_more(limit=None)\n",
    "    for comment in submission.comments.list():\n",
    "        # save the comment data to a dictionary\n",
    "        uk_subreddit_comments_dict.append({\n",
    "            \"body\": comment.body,\n",
    "            \"score\": comment.score,\n",
    "            \"created\": comment.created,\n",
    "            \"id\": comment.id,\n",
    "            \"submission_id\": comment.submission.id,\n",
    "            \"location\": comment\n",
    "        })\n",
    "        \n",
    "# convert dictionary to dataframe\n",
    "uk_subreddit_comments_df = pd.DataFrame(uk_subreddit_comments_dict)\n",
    "\n",
    "# print dataframe\n",
    "print(uk_subreddit_comments_df)"
   ]
  },
  {
   "cell_type": "code",
   "execution_count": 9,
   "metadata": {},
   "outputs": [
    {
     "name": "stdout",
     "output_type": "stream",
     "text": [
      "                                                    body  score  \\\n",
      "0      Checked supercharge.info\\n\\nUnited Kingdom 118...    703   \n",
      "1      I’m in England. I have an EV. \\n\\nToday and to...    112   \n",
      "2      Lol.\\n\\nThere's definitely a lot of people ove...    106   \n",
      "3       ...must have been a Brexiteer. How's that going?    166   \n",
      "4      A guy stopped me outside the store in Connecti...     25   \n",
      "...                                                  ...    ...   \n",
      "21164  Might be banning domestic flights like France,...      1   \n",
      "21165  Even worse is that they are building a new non...      1   \n",
      "21166                                                Yes      1   \n",
      "21167  Agreed. Full hydrogen is (today, and especiall...      5   \n",
      "21168  I hadn't heard if that, but that's dumb as shi...      1   \n",
      "\n",
      "                  created       id submission_id location  \n",
      "0     2023-07-15 21:19:43  js3upk8       150lepk  js3upk8  \n",
      "1     2023-07-15 22:03:13  js40lpa       150lepk  js40lpa  \n",
      "2     2023-07-15 21:13:16  js3ttv8       150lepk  js3ttv8  \n",
      "3     2023-07-15 21:14:11  js3tyf4       150lepk  js3tyf4  \n",
      "4     2023-07-15 23:06:22  js48xjo       150lepk  js48xjo  \n",
      "...                   ...      ...           ...      ...  \n",
      "21164 2021-07-16 18:06:14  h5f1rhk        ok1ej7  h5f1rhk  \n",
      "21165 2021-07-16 18:08:21  h5f222f        ok1ej7  h5f222f  \n",
      "21166 2021-07-15 08:29:46  h590y4x        ok1ej7  h590y4x  \n",
      "21167 2021-07-14 15:00:45  h55l5dn        ok1ej7  h55l5dn  \n",
      "21168 2021-07-16 18:30:03  h5f55o3        ok1ej7  h5f55o3  \n",
      "\n",
      "[21169 rows x 6 columns]\n"
     ]
    }
   ],
   "source": [
    "\n",
    "\n",
    "# convert utc timestamp to datetime\n",
    "uk_subreddit_comments_df[\"created\"] = uk_subreddit_comments_df[\"created\"].apply(\n",
    "    lambda x: datetime.datetime.fromtimestamp(x)\n",
    ")\n",
    "\n",
    "# print dataframe\n",
    "print(uk_subreddit_comments_df)"
   ]
  },
  {
   "cell_type": "code",
   "execution_count": 10,
   "metadata": {},
   "outputs": [],
   "source": [
    "# save dataframe to csv\n",
    "uk_subreddit_comments_df.to_csv(\"data/uk_subreddit_comments.csv\", index=False)\n",
    "\n",
    "# save dataframe to csv\n",
    "uk_subreddit_thread_df.to_csv(\"data/uk_subreddit_threads.csv\", index=False)"
   ]
  },
  {
   "cell_type": "code",
   "execution_count": 11,
   "metadata": {},
   "outputs": [
    {
     "name": "stdout",
     "output_type": "stream",
     "text": [
      "31\n"
     ]
    }
   ],
   "source": [
    "from PyPDF2 import PdfReader\n",
    "\n",
    "def extract_information(pdf_path):\n",
    "    with open(pdf_path, 'rb') as f:\n",
    "        pdf = PdfReader(f)\n",
    "        number_of_pages = len(pdf.pages)\n",
    "        print(number_of_pages)\n",
    "        for page in pdf.pages:\n",
    "            # save each page and text in text file\n",
    "            with open('data/GEVO23PolicyExplorertable.txt', 'a') as f:\n",
    "                f.write(page.extract_text())\n",
    "                f.write('\\n')\n",
    "                f.close()\n",
    "\n",
    "\n",
    "\n",
    "if __name__ == '__main__':\n",
    "    path = 'data/GEVO23PolicyExplorertable.pdf'\n",
    "    extract_information(path)\n"
   ]
  }
 ],
 "metadata": {
  "kernelspec": {
   "display_name": "Python 3",
   "language": "python",
   "name": "python3"
  },
  "language_info": {
   "codemirror_mode": {
    "name": "ipython",
    "version": 3
   },
   "file_extension": ".py",
   "mimetype": "text/x-python",
   "name": "python",
   "nbconvert_exporter": "python",
   "pygments_lexer": "ipython3",
   "version": "3.9.16"
  },
  "orig_nbformat": 4
 },
 "nbformat": 4,
 "nbformat_minor": 2
}
